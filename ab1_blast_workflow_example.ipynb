{
 "cells": [
  {
   "cell_type": "markdown",
   "id": "d79c3e52",
   "metadata": {},
   "source": [
    "#### Molecular Biology and Bioinformatics Sample Workflow\n",
    "Extraction and identification of DNA from multiple Sanger sequencing .ab1 files using NCBI blast. All in the comfort of this Jupyter notebook. \n",
    "\n",
    "Use the blank template or duplicate this file in this same folder to use with your set of .ab1 files. Folder and subfolder order should be maintained for everything to run correctly. \n",
    "\n",
    "Follow instructions at the top of each block. Save or export this notebook afterwards for documentation.\n",
    "\n",
    "NCBI Blast recommend a limit of 50 ab1 files for small queries. Example below is with 10 .ab1 files.\n",
    "\n",
    "On VSCode, select venv virtual environment\n",
    "\n",
    "Press shift+enter to run every block and proceed to the next."
   ]
  },
  {
   "cell_type": "code",
   "execution_count": 6,
   "id": "3e59864f",
   "metadata": {},
   "outputs": [],
   "source": [
    "#No changes here.  Importing modules and setting python path.\n",
    "import os, sys\n",
    "sys.path.append(os.getcwd())\n",
    "from src.ab1_helpers import *\n",
    "\n"
   ]
  },
  {
   "cell_type": "markdown",
   "id": "3f9a4c33",
   "metadata": {},
   "source": [
    "#### Part I. Extract sequence information from .ab1 files.\n",
    "1. Create a subfolder in seq_data folder. \n",
    "2. Transfer .ab1 files there. Maximum of 50 (limit is given by NCBI).\n",
    "3. Fill the information in the next block then press shift+enter to run.\n",
    "\n",
    "in the example below, I processed sequencing data stored in [/seq_data/old_ab1s](/seq_data/old_ab1s)"
   ]
  },
  {
   "cell_type": "code",
   "execution_count": null,
   "id": "6af37dda",
   "metadata": {},
   "outputs": [],
   "source": [
    "#Save ab1 files in a subfolder in seq_dna. Enter subfolder name below. \n",
    "ab1_subfolder = 'old_ab1s'\n",
    "\n",
    "#Enter a file name for a multi-sequence fasta file of your sequencing. This will be saved in the python_outputs subfolder.\n",
    "fasta_file_name = 'my_ab1s.fasta'"
   ]
  },
  {
   "cell_type": "code",
   "execution_count": 10,
   "id": "bec39a20",
   "metadata": {},
   "outputs": [
    {
     "name": "stdout",
     "output_type": "stream",
     "text": [
      "python_outputs/old_ab1s/my_test.fasta saved with 10 sequences.\n"
     ]
    }
   ],
   "source": [
    "#No changes here. Just run. \n",
    "seqdict, output_folder = mult_ab1_to_single_fasta(ab1_subfolder, fasta_file_name)\n"
   ]
  },
  {
   "cell_type": "markdown",
   "id": "fcf1d8bf",
   "metadata": {},
   "source": [
    "Please check that your fasta file above was saved correctly before running the next block below. Take note of the fasta subfolder above. This same folder will be used for results below. \n",
    "\n",
    "#### Part II. Blast searches will be made by connecting to the NCBI Blast server (once for every sequence). An XML file for each blast search will be saved.\n",
    "\n",
    "In this example run, 10 sequences took around 8 minutes to complete. "
   ]
  },
  {
   "cell_type": "code",
   "execution_count": 5,
   "id": "0e3aa595",
   "metadata": {},
   "outputs": [
    {
     "name": "stdout",
     "output_type": "stream",
     "text": [
      "2009-05-13_A10_AAPAA406T7 qblast complete, result saved to python_outputs/old_ab1s/2009-05-13_A10_AAPAA406T7_blast.xml\n",
      "2011-04-08_G12_AA418F qblast complete, result saved to python_outputs/old_ab1s/2011-04-08_G12_AA418F_blast.xml\n",
      "2011-03-03_E08_AA250BLR qblast complete, result saved to python_outputs/old_ab1s/2011-03-03_E08_AA250BLR_blast.xml\n",
      "2011-03-03_D08_AA250BLF qblast complete, result saved to python_outputs/old_ab1s/2011-03-03_D08_AA250BLF_blast.xml\n",
      "2011-03-15_A05_AA411LJR qblast complete, result saved to python_outputs/old_ab1s/2011-03-15_A05_AA411LJR_blast.xml\n",
      "2009-05-13_G09_AAPAA405T7 qblast complete, result saved to python_outputs/old_ab1s/2009-05-13_G09_AAPAA405T7_blast.xml\n",
      "2011-04-08_H12_AA418R qblast complete, result saved to python_outputs/old_ab1s/2011-04-08_H12_AA418R_blast.xml\n",
      "2009-05-13_H09_AAPAA406T3 qblast complete, result saved to python_outputs/old_ab1s/2009-05-13_H09_AAPAA406T3_blast.xml\n",
      "2011-03-15_B05_AA412RJF qblast complete, result saved to python_outputs/old_ab1s/2011-03-15_B05_AA412RJF_blast.xml\n",
      "2009-05-13_F09_AAPAA405T3 qblast complete, result saved to python_outputs/old_ab1s/2009-05-13_F09_AAPAA405T3_blast.xml\n"
     ]
    }
   ],
   "source": [
    "#No change needed. \n",
    "\n",
    "blast_seqdict(seqdict, output_folder)\n"
   ]
  },
  {
   "cell_type": "markdown",
   "id": "da4c09ed",
   "metadata": {},
   "source": []
  },
  {
   "cell_type": "markdown",
   "id": "640df51c",
   "metadata": {},
   "source": [
    "Please check that all sequences were saved as XML files above before proceeding to the next step below.\n",
    "\n",
    "#### Part III. Getting All Results in a CSV Table."
   ]
  },
  {
   "cell_type": "code",
   "execution_count": 6,
   "id": "9166486a",
   "metadata": {},
   "outputs": [
    {
     "name": "stdout",
     "output_type": "stream",
     "text": [
      "python_outputs/old_ab1s/summary_of_blast.csv is saved with a summary of Blast results.\n"
     ]
    }
   ],
   "source": [
    "#saving information on csv file\n",
    "xml_to_table(seqdict, output_folder)"
   ]
  },
  {
   "cell_type": "markdown",
   "id": "292296f6",
   "metadata": {},
   "source": [
    "All output files were saved in [/python_outputs/old_ab1s](/python_outputs/old_ab1s)"
   ]
  }
 ],
 "metadata": {
  "kernelspec": {
   "display_name": "venv",
   "language": "python",
   "name": "python3"
  },
  "language_info": {
   "codemirror_mode": {
    "name": "ipython",
    "version": 3
   },
   "file_extension": ".py",
   "mimetype": "text/x-python",
   "name": "python",
   "nbconvert_exporter": "python",
   "pygments_lexer": "ipython3",
   "version": "3.13.2"
  }
 },
 "nbformat": 4,
 "nbformat_minor": 5
}
