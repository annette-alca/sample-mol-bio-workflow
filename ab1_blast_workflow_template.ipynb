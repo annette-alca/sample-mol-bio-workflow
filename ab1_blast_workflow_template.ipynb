{
 "cells": [
  {
   "cell_type": "markdown",
   "id": "d79c3e52",
   "metadata": {},
   "source": [
    "#### Molecular Biology and Bioinformatics Sample Workflow\n",
    "Extraction and identification of DNA from multiple Sanger sequencing .ab1 files using NCBI blast. All in the comfort of this Jupyter notebook. \n",
    "\n",
    "Duplicate this blank template file in this same folder to use with your set of .ab1 files. Folder and subfolder order should be maintained for everything to run correctly. \n",
    "\n",
    "Follow instructions at the top of each block. Save or export this notebook afterwards for documentation.\n",
    "\n",
    "NCBI Blast recommend a limit of 50 ab1 files for small queries. Example below is with 10 .ab1 files.\n",
    "\n",
    "On VSCode, select venv virtual environment\n",
    "\n",
    "Press shift+enter to run every block and proceed to the next."
   ]
  },
  {
   "cell_type": "code",
   "execution_count": null,
   "id": "3e59864f",
   "metadata": {},
   "outputs": [],
   "source": [
    "#No changes here.  Importing modules and setting Python path.\n",
    "import os, sys\n",
    "sys.path.append(os.getcwd())\n",
    "from src.ab1_helpers import *\n"
   ]
  },
  {
   "cell_type": "markdown",
   "id": "3f9a4c33",
   "metadata": {},
   "source": [
    "#### Part I. Extract sequence information from .ab1 files.\n",
    "1. Create a subfolder in seq_data folder. \n",
    "2. Transfer .ab1 files there. Maximum of 50 (limit is given by NCBI).\n",
    "3. Fill the information in the next block then press shift+enter to run."
   ]
  },
  {
   "cell_type": "code",
   "execution_count": null,
   "id": "6af37dda",
   "metadata": {},
   "outputs": [],
   "source": [
    "#Save ab1 files in a subfolder in seq_dna. Enter subfolder name below. \n",
    "ab1_subfolder = 'replace_this_text_include_single_quotes'\n",
    "\n",
    "#Enter a file name for a multi-sequence fasta file of your sequencing. This will be saved in the python_outputs subfolder.\n",
    "fasta_file_name = 'replace_this_text_include_single_quotes'"
   ]
  },
  {
   "cell_type": "code",
   "execution_count": null,
   "id": "bec39a20",
   "metadata": {},
   "outputs": [],
   "source": [
    "#No changes here. Just run. \n",
    "seqdict, output_folder = mult_ab1_to_single_fasta(ab1_subfolder, fasta_file_name)\n"
   ]
  },
  {
   "cell_type": "markdown",
   "id": "fcf1d8bf",
   "metadata": {},
   "source": [
    "Please check that your fasta file above was saved correctly before running the next block below. Take note of the fasta subfolder above. This same folder will be used for results below. \n",
    "\n",
    "#### Part II. Blast searches will be made by connecting to the NCBI Blast server (once for every sequence). An XML file for each blast search will be saved.\n",
    "\n",
    "In this example run, 10 sequences took around 8 minutes to complete. "
   ]
  },
  {
   "cell_type": "code",
   "execution_count": null,
   "id": "0e3aa595",
   "metadata": {},
   "outputs": [],
   "source": [
    "#No change needed. \n",
    "\n",
    "blast_seqdict(seqdict, output_folder)\n"
   ]
  },
  {
   "cell_type": "markdown",
   "id": "da4c09ed",
   "metadata": {},
   "source": []
  },
  {
   "cell_type": "markdown",
   "id": "640df51c",
   "metadata": {},
   "source": [
    "Please check that all sequences were saved as XML files above before proceeding to the next step below.\n",
    "\n",
    "#### Part III. Getting All Results in a CSV Table."
   ]
  },
  {
   "cell_type": "code",
   "execution_count": null,
   "id": "9166486a",
   "metadata": {},
   "outputs": [],
   "source": [
    "#No changes needed. Saving information on csv file\n",
    "xml_to_table(seqdict, output_folder)"
   ]
  }
 ],
 "metadata": {
  "kernelspec": {
   "display_name": "venv",
   "language": "python",
   "name": "python3"
  },
  "language_info": {
   "codemirror_mode": {
    "name": "ipython",
    "version": 3
   },
   "file_extension": ".py",
   "mimetype": "text/x-python",
   "name": "python",
   "nbconvert_exporter": "python",
   "pygments_lexer": "ipython3",
   "version": "3.13.2"
  }
 },
 "nbformat": 4,
 "nbformat_minor": 5
}
